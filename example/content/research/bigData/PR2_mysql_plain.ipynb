{
 "cells": [
  {
   "cell_type": "code",
   "execution_count": 87,
   "metadata": {},
   "outputs": [],
   "source": [
    "import mysql.connector\n",
    "from pandas import DataFrame\n",
    "import numpy as np\n",
    "import matplotlib.pyplot as plt"
   ]
  },
  {
   "attachments": {},
   "cell_type": "markdown",
   "metadata": {},
   "source": [
    "## Connect\n",
    "Connect the MYSQL Database."
   ]
  },
  {
   "cell_type": "code",
   "execution_count": 88,
   "metadata": {},
   "outputs": [],
   "source": [
    "analytics_db_connection = mysql.connector.connect(\n",
    "  host=\"localhost\",\n",
    "  user=\"\",\n",
    "  password=\"\",\n",
    "  database=\"recruitment_analytics\"\n",
    ")"
   ]
  },
  {
   "attachments": {},
   "cell_type": "markdown",
   "metadata": {},
   "source": [
    "## Queries\n",
    "Count all applications by region and country."
   ]
  },
  {
   "cell_type": "code",
   "execution_count": 89,
   "metadata": {},
   "outputs": [
    {
     "data": {
      "text/html": [
       "<div>\n",
       "<style scoped>\n",
       "    .dataframe tbody tr th:only-of-type {\n",
       "        vertical-align: middle;\n",
       "    }\n",
       "\n",
       "    .dataframe tbody tr th {\n",
       "        vertical-align: top;\n",
       "    }\n",
       "\n",
       "    .dataframe thead th {\n",
       "        text-align: right;\n",
       "    }\n",
       "</style>\n",
       "<table border=\"1\" class=\"dataframe\">\n",
       "  <thead>\n",
       "    <tr style=\"text-align: right;\">\n",
       "      <th></th>\n",
       "      <th>country_name</th>\n",
       "      <th>region_name</th>\n",
       "      <th>application_count</th>\n",
       "    </tr>\n",
       "  </thead>\n",
       "  <tbody>\n",
       "    <tr>\n",
       "      <th>0</th>\n",
       "      <td>United States</td>\n",
       "      <td>California</td>\n",
       "      <td>1</td>\n",
       "    </tr>\n",
       "    <tr>\n",
       "      <th>1</th>\n",
       "      <td>United Kingdom</td>\n",
       "      <td>London</td>\n",
       "      <td>1</td>\n",
       "    </tr>\n",
       "    <tr>\n",
       "      <th>2</th>\n",
       "      <td>Canada</td>\n",
       "      <td>Ontario</td>\n",
       "      <td>1</td>\n",
       "    </tr>\n",
       "    <tr>\n",
       "      <th>3</th>\n",
       "      <td>Australia</td>\n",
       "      <td>New South Wales</td>\n",
       "      <td>2</td>\n",
       "    </tr>\n",
       "  </tbody>\n",
       "</table>\n",
       "</div>"
      ],
      "text/plain": [
       "     country_name      region_name  application_count\n",
       "0   United States       California                  1\n",
       "1  United Kingdom           London                  1\n",
       "2          Canada          Ontario                  1\n",
       "3       Australia  New South Wales                  2"
      ]
     },
     "execution_count": 89,
     "metadata": {},
     "output_type": "execute_result"
    }
   ],
   "source": [
    "# The MySQLCursor class instantiates objects that can execute operations such as SQL statements. \n",
    "# Cursor objects interact with the MySQL server using a MySQLConnection object.\n",
    "cursor = analytics_db_connection.cursor()\n",
    "\n",
    "query_1 = \"\"\"\n",
    "\n",
    "SELECT \n",
    "    c.name AS country_name, \n",
    "    r.name AS region_name, \n",
    "    COUNT(*) AS application_count\n",
    "FROM \n",
    "    recruitment_analytics.application AS a\n",
    "    JOIN recruitment_analytics.site AS s ON a.site_id = s.site_id\n",
    "    JOIN recruitment_analytics.region AS r ON s.region_id = r.region_id\n",
    "    JOIN recruitment_analytics.country AS c ON r.country_id = c.country_id\n",
    "GROUP BY \n",
    "    c.name, r.name;\n",
    "\n",
    "LIMIT 100\n",
    "\"\"\"\n",
    "\n",
    "cursor.execute(query_1)\n",
    "\n",
    "result_1 = cursor.fetchall()\n",
    "df_1 = DataFrame(result_1, columns=[desc[0] for desc in cursor.description])\n",
    "\n",
    "df_1"
   ]
  },
  {
   "attachments": {},
   "cell_type": "markdown",
   "metadata": {},
   "source": [
    "Reconnect to the Database:"
   ]
  },
  {
   "cell_type": "code",
   "execution_count": 90,
   "metadata": {},
   "outputs": [],
   "source": [
    "cursor.close()\n",
    "analytics_db_connection.reconnect()\n",
    "cursor = analytics_db_connection.cursor()"
   ]
  },
  {
   "attachments": {},
   "cell_type": "markdown",
   "metadata": {},
   "source": [
    "Count all applications by job group:"
   ]
  },
  {
   "cell_type": "code",
   "execution_count": 91,
   "metadata": {},
   "outputs": [
    {
     "data": {
      "image/png": "[encoded data removed]",
      "text/plain": [
       "<Figure size 640x480 with 1 Axes>"
      ]
     },
     "metadata": {},
     "output_type": "display_data"
    }
   ],
   "source": [
    "query_2 = \"\"\"\n",
    "SELECT \n",
    "    j.name AS job_group, \n",
    "    COUNT(*) AS application_count\n",
    "FROM \n",
    "    recruitment_analytics.application AS a\n",
    "    JOIN recruitment_analytics.vacancy AS v ON a.vacancy_id = v.vacancy_id\n",
    "    JOIN recruitment_analytics.advertisement AS ad ON v.advertisement_id = ad.advertisement_id\n",
    "    JOIN recruitment_analytics.job_group AS j ON ad.job_group_id = j.job_group_id\n",
    "GROUP BY \n",
    "    j.name;\n",
    "LIMIT 100\n",
    "\"\"\"\n",
    "cursor.execute(query_2)\n",
    "\n",
    "result_2 = cursor.fetchall()\n",
    "df_2 = DataFrame(result_2, columns=[desc[0] for desc in cursor.description])\n",
    "\n",
    "# Create a bar plot\n",
    "plt.bar(df_2['job_group'], df_2['application_count'])\n",
    "\n",
    "# Set plot title and labels\n",
    "plt.title('Application Count by Job Group')\n",
    "plt.xlabel('Job Group')\n",
    "plt.ylabel('Application Count')\n",
    "\n",
    "# Display the plot\n",
    "plt.show()"
   ]
  }
 ],
 "metadata": {
  "kernelspec": {
   "display_name": "Python 3",
   "language": "python",
   "name": "python3"
  },
  "language_info": {
   "codemirror_mode": {
    "name": "ipython",
    "version": 3
   },
   "file_extension": ".py",
   "mimetype": "text/x-python",
   "name": "python",
   "nbconvert_exporter": "python",
   "pygments_lexer": "ipython3",
   "version": "3.10.2"
  },
  "orig_nbformat": 4
 },
 "nbformat": 4,
 "nbformat_minor": 2
}
